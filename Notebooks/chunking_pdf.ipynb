{
 "cells": [
  {
   "cell_type": "markdown",
   "id": "e1855f6f",
   "metadata": {},
   "source": [
    "\n",
    "\n",
    "### Processing Logic:\n",
    "\n",
    "- The processor reads PDFs using the unstructured library\n",
    "\n",
    "\t- It identifies different types of content:\n",
    "\n",
    "\t- Titles (which become section headers)\n",
    "\n",
    "\t- Regular text\n",
    "\n",
    "\t- Lists\n",
    "\n",
    "\t- Tables\n",
    "\n",
    "- It maintains the document's structure by:\n",
    "\n",
    "\t- Tracking section hierarchies\n",
    "\n",
    "\t- Preserving page numbers\n",
    "\n",
    "\t- Keeping track of content types\n",
    "\n",
    "### Output Format:\n",
    "\n",
    "- The processed content is saved as JSON\n",
    "\n",
    "- Each chunk contains both the text and its associated metadata\n",
    "\n",
    "- This makes it easy to reconstruct the document's structure later"
   ]
  },
  {
   "cell_type": "code",
   "execution_count": null,
   "id": "dd057d71",
   "metadata": {
    "vscode": {
     "languageId": "plaintext"
    }
   },
   "outputs": [],
   "source": []
  },
  {
   "cell_type": "markdown",
   "id": "770c44b4",
   "metadata": {},
   "source": [
    "`ChunkMetadata`: Stores information about each text chunk, including:\n",
    "\n",
    "- Which file it came from\n",
    "\n",
    "- Page number\n",
    "\n",
    "- Section and subsection titles\n",
    "\n",
    "- Type of content (text, table, etc.)\n",
    "\n",
    "- Parent sections for hierarchical structure"
   ]
  },
  {
   "cell_type": "code",
   "execution_count": null,
   "id": "6e1bbee4",
   "metadata": {
    "vscode": {
     "languageId": "plaintext"
    }
   },
   "outputs": [],
   "source": []
  },
  {
   "cell_type": "markdown",
   "id": "865009f6",
   "metadata": {},
   "source": [
    "`TextChunk`: Combines the actual text content with its metadata"
   ]
  },
  {
   "cell_type": "markdown",
   "id": "afda21bb",
   "metadata": {},
   "source": []
  },
  {
   "cell_type": "markdown",
   "id": "7aa91b4b",
   "metadata": {},
   "source": [
    "`PDFProcessor Class`:\n",
    "\n",
    "The main class that handles PDF processing with these key features:\n",
    "\n",
    "- Initialization:\n",
    "\n",
    "\t- Takes parameters for minimum and maximum chunk sizes\n",
    "\n",
    "\t- Tracks current section and subsection information\n",
    "\n",
    "- Main Methods:\n",
    "\n",
    "\t- `process_pdf()`: The core method that:\n",
    "\n",
    "\t\t- Reads a PDF file\n",
    "\n",
    "\t\t- Identifies different elements (titles, text, tables, lists)\n",
    "\n",
    "\t\t- Creates chunks of text while maintaining document structure\n",
    "\n",
    "\t- Preserves section hierarchy\n",
    "\n",
    "- `save_chunks()`: Saves processed chunks to a JSON file\n",
    "\n",
    "- `load_chunks()`: Loads previously saved chunks from a JSON file"
   ]
  },
  {
   "cell_type": "code",
   "execution_count": null,
   "id": "a0732f43",
   "metadata": {
    "vscode": {
     "languageId": "plaintext"
    }
   },
   "outputs": [],
   "source": []
  }
 ],
 "metadata": {
  "language_info": {
   "name": "python"
  }
 },
 "nbformat": 4,
 "nbformat_minor": 5
}
